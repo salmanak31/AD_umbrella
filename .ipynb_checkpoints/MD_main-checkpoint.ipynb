{
 "cells": [
  {
   "cell_type": "markdown",
   "metadata": {},
   "source": [
    "## Import and setup functions"
   ]
  },
  {
   "cell_type": "code",
   "execution_count": 35,
   "metadata": {
    "colab": {},
    "colab_type": "code",
    "id": "d_jl_ftP14qX"
   },
   "outputs": [],
   "source": [
    "import autograd.numpy as np\n",
    "from autograd import grad\n",
    "from autograd import elementwise_grad\n",
    "from pylab import meshgrid,cm,imshow,contour,clabel,colorbar,axis,title,show\n",
    "import matplotlib.pyplot as plt\n",
    "from scipy import optimize\n",
    "from autograd import jacobian\n",
    "# from google.colab import files\n",
    "\n",
    "def oneE(r, D, beta, r0):\n",
    "    \"\"\" Function to calculate oneE\n",
    "    \"\"\"\n",
    "    return D*(1.0 - np.exp(-beta*(r - r0)))**2 - D\n",
    "    \n",
    "def triE(r, D, beta, r0):\n",
    "    \"\"\" Function to calculate triE\n",
    "    \"\"\"\n",
    "    return D*(1.0 + np.exp(-beta*(r - r0)))**2 - D\n",
    "\n",
    "def potential(r_vec):\n",
    "    \"\"\" Function to calculate potential energy given the distance between particles\n",
    "\n",
    "    Args:\n",
    "        R (np.array): vector with inter particle distances\n",
    "    Return:\n",
    "        float: potential energy\n",
    "    \"\"\"\n",
    "    r1, r2, r3 = r_vec\n",
    "    \n",
    "    Q1  = 0.5*(oneE(r1, D=234.524674, beta=0.929968, r0=1.776382) + triE(r1, D=220.244820, beta=4.822681, r0=1.785014))\n",
    "\n",
    "    Q2  = 0.5*(oneE(r2, D=234.524674, beta=0.929968, r0=1.776382) + triE(r2, D=220.244820, beta=4.822681, r0=1.785014))\n",
    "  \n",
    "    Q3  = 0.5*(oneE(r3, D=64.925971, beta=0.432955, r0=2.094857) + triE(r3, D=284.999867, beta=1.016811, r0=2.186060))\n",
    "  \n",
    "    J1  = 0.5*(oneE(r1, D=234.524674, beta=0.929968, r0=1.776382) - triE(r1, D=220.244820, beta=4.822681, r0=1.785014))\n",
    "\n",
    "    J2  = 0.5*(oneE(r2, D=234.524674, beta=0.929968, r0=1.776382) - triE(r2, D=220.244820, beta=4.822681, r0=1.785014))\n",
    "\n",
    "    J3  = 0.5*(oneE(r3, D=64.925971, beta=0.432955, r0=2.094857) - triE(r3, D=284.999867, beta=1.016811, r0=2.186060))\n",
    "\n",
    "    result = Q1 + Q2 + Q3 - np.sqrt(J1**2 + J2**2 + J3**2\n",
    "    - J1*J2 - J2*J3 - J3*J1) + 234.524674 \n",
    "  \n",
    "    return result\n",
    "\n",
    "def rxn_coord(R):\n",
    "    \"\"\" Calculate reaction coordinate\n",
    "\n",
    "    Args:\n",
    "        R (np.array): particle position vector\n",
    "    Return:\n",
    "        float: value of reaction coordinate\n",
    "    \"\"\"\n",
    "    r1 = np.sqrt((R[0][0]-R[1][0])**2 + (R[0][1]-R[1][1])**2)\n",
    "    r2 = np.sqrt((R[1][0]-R[2][0])**2 + (R[1][1]-R[2][1])**2)\n",
    "    return r1-r2\n",
    "\n",
    "def leps_potential(pos):\n",
    "    \"\"\" Calculate total potential including umbrella sampling bias\n",
    "    \"\"\"\n",
    "    # pass this as an argument\n",
    "    q0=1\n",
    "    r1 = np.sqrt((pos[0][0]-pos[1][0])**2 + (pos[0][1]-pos[1][1])**2)\n",
    "    r2 = np.sqrt((pos[1][0]-pos[2][0])**2 + (pos[1][1]-pos[2][1])**2)\n",
    "    r3 = np.sqrt((pos[0][0]-pos[2][0])**2 + (pos[0][1]-pos[2][1])**2)\n",
    "    r_vec = np.asarray([r1, r2, r3])\n",
    "    PE = potential(r_vec) + 0.5*5*(rxn_coord(pos)-q0)**2\n",
    "    \n",
    "    return PE\n",
    "\n",
    "\n",
    "def my_kinetic_energy(vel, mass):\n",
    "    \"\"\" Calculate total kinetic energy.\n",
    "\n",
    "    Args:\n",
    "        vel (np.array): particle velocities, shape (natom, ndim)\n",
    "        mass (float): particle mass\n",
    "    Return:\n",
    "        float: total kinetic energy\n",
    "    \"\"\"\n",
    "    tot_ke = 0\n",
    "    for i in range(0,len(vel)):\n",
    "          tot_ke = tot_ke + 0.5*mass[i][0]*np.sum(vel[i]*vel[i])\n",
    "\n",
    "    return 2390.06*tot_ke\n",
    "\n",
    "def VerletNextR(r_t, v_t, f_t, h,mass):\n",
    "    \"\"\"Return new positions after one Verlet step\"\"\"\n",
    "\n",
    "    r_t_plus_h = r_t + v_t*h + 0.5*np.divide(f_t,mass)*h*h\n",
    "    return r_t_plus_h\n",
    "\n",
    "\n",
    "def VerletNextV(v_t,f_t,f_t_plus_h,h,mass):\n",
    "    \"\"\"Return new velocities after one Verlet step\"\"\"\n",
    "\n",
    "    v_t_plus_h = v_t + 0.5*np.divide((f_t + f_t_plus_h),mass)*h\n",
    "    return v_t_plus_h\n",
    "\n",
    "\n",
    "def Langevin_int(v_t,r_t,f_t,h,mass,gamma,T):\n",
    "    \"\"\"Return new velocities after one Verlet step\"\"\"\n",
    "\n",
    "    kb = 1.987204*10**(-3)\n",
    "    sigma = np.sqrt((4.184*(10**(-4))*2*kb*T*gamma)/mass)\n",
    "    eta = np.random.normal(0,1,(3,2))\n",
    "    theta = np.random.normal(0,1,(3,2))\n",
    "    C = 0.5*(h**2)*(np.divide(f_t,mass) - gamma*v_t) + sigma*((h)**(1.5))*(0.5*eta + (1/(2*np.sqrt(3)))*theta)\n",
    "    r_t_plus_h = r_t + h*v_t + C\n",
    "    f_t_plus_h = -4.184*(10**(-4))*forces(r_t_plus_h)\n",
    "    v_t_plus_h = v_t + 0.5*h*np.divide((f_t+f_t_plus_h),mass) - h*gamma*v_t + sigma*(np.sqrt(h))*eta - gamma*C\n",
    "\n",
    "    return  r_t_plus_h, v_t_plus_h\n",
    "\n",
    "\n",
    "def Langevin_int_first(r_t,f_t,h,mass,gamma,T):\n",
    "    \"\"\"Return new velocities after one Verlet step\"\"\"\n",
    "\n",
    "    kb = 1.987204*10**(-3)\n",
    "    sigma = np.sqrt((4.184*(10**(-4))*2*kb*T*gamma)/mass)\n",
    "    eta = np.random.normal(0,1,(3,2))\n",
    "\n",
    "\n",
    "    r_t_plus_h = r_t + np.divide(f_t,mass)*(h/gamma) + np.sqrt(4.184*(10**(-4))*2*kb*T/(mass*gamma))*eta*np.sqrt(h)\n",
    "    v_t_plus_h =  (r_t_plus_h - r_t)/h\n",
    "\n",
    "    return  r_t_plus_h, v_t_plus_h\n",
    "\n",
    "\n",
    "def Langevin_int_first_2(r_t,v_t,f_t,h,mass,gamma,T):\n",
    "    \"\"\"Return new velocities after one Verlet step\"\"\"\n",
    "\n",
    "    kb = 1.987204*10**(-3)\n",
    "    sigma = np.sqrt((4.184*(10**(-4))*2*kb*T*gamma)/mass)\n",
    "    eta = np.random.normal(0,1,(3,2))  \n",
    "    r_t_plus_h = r_t +h*v_t \n",
    "    v_t_plus_h =  v_t + h*np.divide(f_t,mass) - h*gamma*v_t +np.sqrt(h)*sigma*eta\n",
    "\n",
    "    return  r_t_plus_h, v_t_plus_h\n",
    "\n",
    "# AUTOGRAD FOR FORCES\n",
    "forces = jacobian(leps_potential)"
   ]
  },
  {
   "cell_type": "markdown",
   "metadata": {},
   "source": [
    "## Initialize system"
   ]
  },
  {
   "cell_type": "code",
   "execution_count": 36,
   "metadata": {
    "colab": {},
    "colab_type": "code",
    "id": "oGeSz2D81-WE"
   },
   "outputs": [],
   "source": [
    "# INITIALIZE SYSTEM\n",
    "R = np.zeros((3,2))\n",
    "V = np.zeros((3,2))\n",
    "steps = 2000\n",
    "count = 1\n",
    "eq_steps=1000\n",
    "dump_step=10\n",
    "q = []\n",
    "R[0][0] = -2.\n",
    "R[0][1] = 0.\n",
    "\n",
    "R[1][0] = 0.\n",
    "R[1][1] = 0.1\n",
    "\n",
    "R[2][0] = 3.\n",
    "R[2][1] = 0.\n",
    "\n",
    "\n",
    "\n",
    "E = np.zeros(steps)\n",
    "q = np.zeros(steps)\n",
    "r1 = np.zeros(steps)\n",
    "r2 = np.zeros(steps)\n",
    "F = np.zeros((3,2))\n",
    "V = np.zeros((3,2))\n",
    "h = 1\n",
    "\n",
    "#temperature\n",
    "T = 300\n",
    "\n",
    "# masses\n",
    "mass = np.zeros((3,2))\n",
    "\n",
    "mass[0][0] = 38\n",
    "mass[0][1] = 38\n",
    "\n",
    "mass[1][0] = 15\n",
    "mass[1][1] = 15\n",
    "\n",
    "mass[2][0] = 38\n",
    "mass[2][1] = 38\n",
    "\n",
    "kb = 1.987204*10**(-3)\n",
    "\n"
   ]
  },
  {
   "cell_type": "markdown",
   "metadata": {},
   "source": [
    "## Effect of gamma on temperature control"
   ]
  },
  {
   "cell_type": "code",
   "execution_count": 37,
   "metadata": {
    "colab": {},
    "colab_type": "code",
    "id": "0Zgh0CCk1-0b"
   },
   "outputs": [
    {
     "data": {
      "text/plain": [
       "Text(0, 0.5, 'Temperature (K)')"
      ]
     },
     "execution_count": 37,
     "metadata": {},
     "output_type": "execute_result"
    },
    {
     "data": {
      "image/png": "[encoded data removed]",
      "text/plain": [
       "<Figure size 432x288 with 1 Axes>"
      ]
     },
     "metadata": {
      "needs_background": "light"
     },
     "output_type": "display_data"
    }
   ],
   "source": [
    "count = 1\n",
    "count2 = 0\n",
    "g = [0.01, 0.1, 1]\n",
    "q0=0\n",
    "\n",
    "\n",
    "E = np.zeros((3,steps))\n",
    "for gam in g:\n",
    "    gamma = gam\n",
    "\n",
    "    R[0][0] = -2.\n",
    "    R[0][1] = 0.\n",
    "\n",
    "    R[1][0] = 0.\n",
    "    R[1][1] = 0.1\n",
    "\n",
    "    R[2][0] = 3.\n",
    "    R[2][1] = 0.\n",
    "    F = np.zeros((3,2))\n",
    "    V = np.zeros((3,2))\n",
    "\n",
    "    for i in range(0,steps):\n",
    "\n",
    "        E[count2][i] = 1.15*my_kinetic_energy(V, mass)/(3*1.987204*10**(-3))\n",
    "\n",
    "        F = -4.184*(10**(-4))*forces(R)\n",
    "\n",
    "        nR, nV = Langevin_int(V,R,F,h,mass,gamma,T)\n",
    "        R, V = nR, nV\n",
    "  \n",
    "    count2 = count2 + 1\n",
    "\n",
    "p1, = plt.plot(E[0][0:50], label = r'$\\gamma$=0.01 amu/s')\n",
    "p2, = plt.plot(E[1][0:50], label = r'$\\gamma$=0.1 amu/s')\n",
    "p3, = plt.plot(E[2][0:50], label = r'$\\gamma$=1 amu/s')\n",
    "plt.legend(handles = [p1, p2, p3])\n",
    "plt.xlabel(\"Time step\", Fontsize = 15)\n",
    "plt.ylabel(\"Temperature (K)\", Fontsize = 15)"
   ]
  },
  {
   "cell_type": "markdown",
   "metadata": {},
   "source": [
    "## Run MD and write order parameter to file"
   ]
  },
  {
   "cell_type": "code",
   "execution_count": 38,
   "metadata": {
    "colab": {
     "base_uri": "https://localhost:8080/",
     "height": 319
    },
    "colab_type": "code",
    "executionInfo": {
     "elapsed": 1062,
     "status": "ok",
     "timestamp": 1576101571055,
     "user": {
      "displayName": "Salman Ahmad Khan",
      "photoUrl": "",
      "userId": "09595406876549190970"
     },
     "user_tz": 360
    },
    "id": "lTgJndTXFTaq",
    "outputId": "1e31931a-1d7b-4d74-c53d-f50477115e39"
   },
   "outputs": [],
   "source": [
    "f  = open(\"Time_Series.txt\", \"w\")\n",
    "\n",
    "for i in range(0,steps):\n",
    "\n",
    "  F = -4.184*(10**(-4))*forces(R)\n",
    "\n",
    "  nR, nV = Langevin_int(V,R,F,h,mass,gamma,T)\n",
    "\n",
    "  R, V = nR, nV\n",
    "\n",
    "  if i > eq_steps and i%dump_step==0:\n",
    "    r1 = np.sqrt((R[0][0]-R[1][0])**2 + (R[0][1]-R[1][1])**2)\n",
    "    r2 = np.sqrt((R[1][0]-R[2][0])**2 + (R[1][1]-R[2][1])**2)\n",
    "    f.write(str(count)+\"\\t\"+str(r1-r2)+\"\\n\")\n",
    "    count = count + 1\n",
    " \n",
    "f.close()\n"
   ]
  }
 ],
 "metadata": {
  "colab": {
   "collapsed_sections": [],
   "name": "q_0.ipynb",
   "provenance": []
  },
  "kernelspec": {
   "display_name": "Python 3",
   "language": "python",
   "name": "python3"
  },
  "language_info": {
   "codemirror_mode": {
    "name": "ipython",
    "version": 3
   },
   "file_extension": ".py",
   "mimetype": "text/x-python",
   "name": "python",
   "nbconvert_exporter": "python",
   "pygments_lexer": "ipython3",
   "version": "3.7.1"
  }
 },
 "nbformat": 4,
 "nbformat_minor": 1
}
